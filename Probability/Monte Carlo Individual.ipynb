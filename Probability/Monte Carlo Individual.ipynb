{
 "cells": [
  {
   "cell_type": "markdown",
   "metadata": {},
   "source": [
    "**Robert Lacher** <br>\n",
    "**MATH 3332** <br>\n",
    "**Section 52** <br>\n",
    "\n",
    "# Problem Group B:\n",
    "Using Monte Carlo method estimate the area of the hexagon whose vertices are at **(1,1),(0,2),(2,3),(3,3),(4,1),** and **(3,0)**. Describe the design of the Monte Carlo approach and snip the first 10 lines of the Excel sheet. Then compare the result by calculating area using elementary geometry."
   ]
  },
  {
   "cell_type": "markdown",
   "metadata": {},
   "source": [
    "## Imports\n",
    "The program first starts by importing the necessary library. For this assignment I will be using **numpy** and the **matplotlib** libraries."
   ]
  },
  {
   "cell_type": "code",
   "execution_count": 1,
   "metadata": {
    "collapsed": false
   },
   "outputs": [],
   "source": [
    "from __future__ import division\n",
    "import numpy as np\n",
    "import matplotlib.pyplot as plt\n",
    "from matplotlib.path import Path\n",
    "import matplotlib.patches as patches\n",
    "%matplotlib inline"
   ]
  },
  {
   "cell_type": "markdown",
   "metadata": {},
   "source": [
    "## Constants\n",
    "The program then defines several constants to use throughout the program. The program defines the X and Y limits, the number of points for the Monte Carlo, the number of points to be plotted, and the given vertices provided in the assignment prompt."
   ]
  },
  {
   "cell_type": "code",
   "execution_count": 2,
   "metadata": {
    "collapsed": false
   },
   "outputs": [],
   "source": [
    "# Plot limits\n",
    "X_MIN = 0\n",
    "X_MAX = 4\n",
    "Y_MIN = X_MIN\n",
    "Y_MAX = X_MAX\n",
    "\n",
    "# Number of points for Monte Carlo\n",
    "NUM_POINTS = 10000\n",
    "# Maximum number of points to plot\n",
    "PLOT_POINTS = 100\n",
    "# Modulus\n",
    "MODULUS = int(NUM_POINTS / PLOT_POINTS)\n",
    "\n",
    "# Number of times to conduct the Monte Carlo simulation\n",
    "NUM_ITERATIONS = 5\n",
    "\n",
    "# Vertices of polygon\n",
    "# (1,1) included twice for plotting purposes\n",
    "VERTICES = [\n",
    "    (1., 1.),\n",
    "    (0., 2.),\n",
    "    (2., 3.),\n",
    "    (3., 3.),\n",
    "    (4., 1.),\n",
    "    (3., 0.),\n",
    "    (1., 1.),\n",
    "]"
   ]
  },
  {
   "cell_type": "markdown",
   "metadata": {},
   "source": [
    "## Main Program\n",
    "Then the program enters the main portion to conduct the Monte Carlo simulation.\n",
    "\n",
    "The simulation will be ran **NUM_ITERATION** times for **NUM_POINTS** randomly generated coordinates. If the random coordinates are within the area of the hexagon, the **num_inside** counter will be increased.\n",
    "\n",
    "The area of the hexagon will then be computed as\n",
    "\n",
    "$$ area_{hexagon} = {num\\_inside \\over NUM\\_POINTS} \\cdot area_{square} $$"
   ]
  },
  {
   "cell_type": "code",
   "execution_count": 3,
   "metadata": {
    "collapsed": false
   },
   "outputs": [
    {
     "name": "stdout",
     "output_type": "stream",
     "text": [
      "Area Hexagon = 6.9712\n",
      "Area Hexagon = 7.1808\n",
      "Area Hexagon = 6.9888\n",
      "Area Hexagon = 7.1408\n",
      "Area Hexagon = 6.984\n",
      "Area Square = 16\n",
      "Average Area Hexagon = 7.05312\n"
     ]
    },
    {
     "data": {
      "image/png": "[encoded data removed]",
      "text/plain": [
       "<matplotlib.figure.Figure at 0x7f65a569bf90>"
      ]
     },
     "metadata": {},
     "output_type": "display_data"
    }
   ],
   "source": [
    "# Creates an MPL Path object\n",
    "path = Path(VERTICES)\n",
    "\n",
    "# Plotting \n",
    "fig = plt.figure()\n",
    "ax = fig.add_subplot(111)\n",
    "patch = patches.PathPatch(path, facecolor='orange', lw=2)\n",
    "ax.add_patch(patch)\n",
    "ax.set_xlim(X_MIN, X_MAX)\n",
    "ax.set_ylim(Y_MIN, Y_MAX)\n",
    "# End Plotting\n",
    "\n",
    "# Average area of the hexagon\n",
    "average_area = []\n",
    "\n",
    "# Iterate NUM_ITERATIONS times to conduct the Monte Carlo simulation\n",
    "for iteration in xrange(NUM_ITERATIONS):\n",
    "    \n",
    "    # Counter to store number of points within polygon\n",
    "    num_inside = 0\n",
    "    \n",
    "    # Create and store random points\n",
    "    rand_x = np.random.uniform(low=X_MIN, high=X_MAX, size=NUM_POINTS)\n",
    "    rand_y = np.random.uniform(low=X_MIN, high=X_MAX, size=NUM_POINTS)\n",
    "\n",
    "    # Create tuples of (X, Y) coordinates\n",
    "    points = zip(rand_x, rand_y)\n",
    "\n",
    "    # Iterate over every point to determine if it is within polygon\n",
    "    for index, point in enumerate(points):\n",
    "    \n",
    "        # Check that the point falls within the polygon\n",
    "        if path.contains_points((point,)):\n",
    "        \n",
    "            # If it does, we'll plot the point and increment the counter\n",
    "            # Using modulus to reduce number of points\n",
    "            if index % MODULUS == 0: \n",
    "                plt.plot(point[0], point[1], 'bo')\n",
    "            num_inside += 1\n",
    "    \n",
    "    # Print area for this iteration\n",
    "    area = (num_inside / NUM_POINTS) * (X_MAX ** 2)\n",
    "    print 'Area Hexagon = %s' % area\n",
    "    average_area.append(area)\n",
    "    \n",
    "# Print overall results\n",
    "print 'Area Square = %s' % (X_MAX ** 2)\n",
    "print 'Average Area Hexagon = %s' % np.average(average_area)"
   ]
  },
  {
   "cell_type": "markdown",
   "metadata": {},
   "source": [
    "# Using Geometry\n",
    "The formula for the area of the irregular polygon is given [here](http://www.mathopenref.com/coordpolygonarea.html) as\n",
    "$$ {(x_1 y_2 - y_1 x_2) +  (x_2 y_3 - y_2 x_3) \\ldots ( x_{n} y_1 - y_{n} x_1 )} \\over 2 $$\n",
    "\n",
    "which equals \n",
    "\n",
    "$$ \\left\\lvert {{(1 \\cdot 2 - 1 \\cdot 0)+ (0 \\cdot 3 - 2 \\cdot 2) + (2 \\cdot 3 - 3 \\cdot 3)+ (3 \\cdot 1 - 3 \\cdot 4)+ (4 \\cdot 0 - 1 \\cdot 3) + (3 \\cdot 1 - 0 \\cdot 1)} \\over {2} }\\right\\rvert = 7$$"
   ]
  }
 ],
 "metadata": {
  "kernelspec": {
   "display_name": "Python 2",
   "language": "python",
   "name": "python2"
  },
  "language_info": {
   "codemirror_mode": {
    "name": "ipython",
    "version": 2
   },
   "file_extension": ".py",
   "mimetype": "text/x-python",
   "name": "python",
   "nbconvert_exporter": "python",
   "pygments_lexer": "ipython2",
   "version": "2.7.11+"
  }
 },
 "nbformat": 4,
 "nbformat_minor": 0
}
