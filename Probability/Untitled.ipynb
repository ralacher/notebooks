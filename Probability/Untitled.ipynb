{
 "cells": [
  {
   "cell_type": "code",
   "execution_count": 11,
   "metadata": {
    "collapsed": true
   },
   "outputs": [],
   "source": [
    "x = \"\"\"A\t0\t0.5\t0\t0.5\n",
    "B\t0.6\t0\t0.4\t0\n",
    "C\t0\t0\t0\t0\n",
    "D\t0\t0.8\t0.2\t0\"\"\""
   ]
  },
  {
   "cell_type": "code",
   "execution_count": 12,
   "metadata": {
    "collapsed": false
   },
   "outputs": [],
   "source": [
    "x = x.split('\\n')\n",
    "x = [y.split('\\t') for y in x]\n",
    "import csv\n",
    "f = open('midterm_problem_4.csv', 'w+')\n",
    "writer = csv.writer(f)\n",
    "\n",
    "writer.writerows(x)"
   ]
  }
 ],
 "metadata": {
  "kernelspec": {
   "display_name": "Python 2",
   "language": "python",
   "name": "python2"
  },
  "language_info": {
   "codemirror_mode": {
    "name": "ipython",
    "version": 2
   },
   "file_extension": ".py",
   "mimetype": "text/x-python",
   "name": "python",
   "nbconvert_exporter": "python",
   "pygments_lexer": "ipython2",
   "version": "2.7.10"
  }
 },
 "nbformat": 4,
 "nbformat_minor": 0
}
