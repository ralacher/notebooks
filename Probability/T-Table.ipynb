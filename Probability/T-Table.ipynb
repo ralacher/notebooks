{
 "cells": [
  {
   "cell_type": "code",
   "execution_count": null,
   "metadata": {
    "collapsed": true
   },
   "outputs": [],
   "source": []
  },
  {
   "cell_type": "code",
   "execution_count": 4,
   "metadata": {
    "collapsed": false
   },
   "outputs": [],
   "source": []
  },
  {
   "cell_type": "markdown",
   "metadata": {},
   "source": [
    "## Problem 1. Stochastic Cannibals. We are back to visit our cannibal tribe. You know the one whose height is normally distributed with mean of 165cm and standard deviation of 20cm. This time they caught our friend whom we brought back to see the cannibals. Our friend is going to die unless we can show our statistically oriented chief of the tribe that there is not enough statistical evidence (statistical significance of 95%) to reject the hypothesis that he is a member of the tribe. Our friend was 185cm.  What does NHST say? Is our friend of the hook?"
   ]
  },
  {
   "cell_type": "code",
   "execution_count": 11,
   "metadata": {
    "collapsed": false
   },
   "outputs": [
    {
     "data": {
      "text/plain": [
       "1.0"
      ]
     },
     "execution_count": 11,
     "metadata": {},
     "output_type": "execute_result"
    }
   ],
   "source": [
    "from __future__ import division\n",
    "def standardized_score(x, mu, sigma):\n",
    "    return ( x - mu ) / sigma\n",
    "\n",
    "standardized_score(185, 165, 20)"
   ]
  },
  {
   "cell_type": "markdown",
   "metadata": {},
   "source": [
    "Using the standard normal distribution table, a $z$ value of 1.0 gives a probability of 0.84134 that our friend is a member of the tribe."
   ]
  },
  {
   "cell_type": "markdown",
   "metadata": {},
   "source": [
    "## Problem 2. A manufacturer of a sprinkle system used for protection in office buildings claims that the true average of system activation temperature is $130\\unicode{xb0}F$. A sample of n=9 systems , when tested, yields a sample average activation temperature of $131.08\\unicode{xb0}F$. If the distribution of activation times is normal with standard deviation 1.5 does the data confirm or not manufacturer’s claim?"
   ]
  },
  {
   "cell_type": "code",
   "execution_count": 13,
   "metadata": {
    "collapsed": false
   },
   "outputs": [
    {
     "data": {
      "text/plain": [
       "2.160000000000025"
      ]
     },
     "execution_count": 13,
     "metadata": {},
     "output_type": "execute_result"
    }
   ],
   "source": [
    "from math import sqrt\n",
    "def one_sample_t_test(xbar, mu, sigma, n):\n",
    "    return ( xbar - mu ) / ( sigma / sqrt(n) )\n",
    "\n",
    "xbar=131.08\n",
    "mu=130\n",
    "sigma=1.5\n",
    "n=9\n",
    "\n",
    "one_sample_t_test(xbar, mu, sigma, n)"
   ]
  },
  {
   "cell_type": "markdown",
   "metadata": {},
   "source": [
    "## Problem 3. Patients who undergo chemo therapy for cancer type A alone, have an average 3.3 years to live. A new procedure is tested where on the top of chemo therapy patients undergo some radiation. The survivability for these patients is 5.4,5.2,6, 2.6,3.7,4.3,5,5,5.4,5.8,4.2,4.4,4.7. The average survaivability is 4.7 years, which is much better. However the test was done only on 13 patients and this is a very expansive and invasive radiation treatment. Thus before wwe recommend it we should be very confident that it is worth the money and time(at least 99% confident). Help doctors with this decision."
   ]
  },
  {
   "cell_type": "code",
   "execution_count": 21,
   "metadata": {
    "collapsed": false
   },
   "outputs": [
    {
     "name": "stdout",
     "output_type": "stream",
     "text": [
      "Average 4.74615384615\n"
     ]
    },
    {
     "data": {
      "text/plain": [
       "5.888729241141224"
      ]
     },
     "execution_count": 21,
     "metadata": {},
     "output_type": "execute_result"
    }
   ],
   "source": [
    "survivabilities = [5.4, 5.2, 6.0, 2.6, 3.7, 4.3, 5.0, 5.0, 5.4, 5.8, 4.2, 4.4, 4.7]\n",
    "avg_survivability = sum(survivabilities) / len(survivabilities)\n",
    "print 'Average %s' % avg_survivability\n",
    "\n",
    "def standard_deviation_of_the_sample(n, xbar, values):\n",
    "    return sqrt( (1 / n) * sum( [ ( value - xbar) ** 2 for value in values] ) )\n",
    "\n",
    "sigma=standard_deviation_of_the_sample(len(survivabilities), avg_survivability, survivabilities)\n",
    "mu=3.3\n",
    "n=13\n",
    "\n",
    "one_sample_t_test(avg_survivability, mu, sigma, n)"
   ]
  }
 ],
 "metadata": {
  "kernelspec": {
   "display_name": "Python 2",
   "language": "python",
   "name": "python2"
  },
  "language_info": {
   "codemirror_mode": {
    "name": "ipython",
    "version": 2
   },
   "file_extension": ".py",
   "mimetype": "text/x-python",
   "name": "python",
   "nbconvert_exporter": "python",
   "pygments_lexer": "ipython2",
   "version": "2.7.10"
  }
 },
 "nbformat": 4,
 "nbformat_minor": 0
}
