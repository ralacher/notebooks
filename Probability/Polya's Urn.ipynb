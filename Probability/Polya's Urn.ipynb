{
 "cells": [
  {
   "cell_type": "markdown",
   "metadata": {},
   "source": [
    "**Robert Lacher**\n",
    "**MATH 3332**\n",
    "**Section 62**\n",
    "\n",
    "# Problem Statement\n",
    "An urn contains 3 red balls. The experiment consists of taking a random ball from the urn and replacing it with a blue ball. We repeat this till all the balls in the urn are blue.\n",
    "\n",
    "## Part B\n",
    "Same as in (a) but this time use Markov chain. First determine the states. Then create Markov diagram and transition matrix. Finally use the transition matrix to create the table."
   ]
  },
  {
   "cell_type": "markdown",
   "metadata": {},
   "source": [
    "### States\n",
    "The possible states are:\n",
    "\n",
    "1. (3, 0)\n",
    "\n",
    "2. (2, 1)\n",
    "\n",
    "3. (1, 2)\n",
    "\n",
    "4. (0, 3)\n"
   ]
  },
  {
   "cell_type": "markdown",
   "metadata": {},
   "source": [
    "### Markov Diagram"
   ]
  },
  {
   "cell_type": "code",
   "execution_count": 19,
   "metadata": {
    "collapsed": false
   },
   "outputs": [
    {
     "data": {
      "image/png": "[encoded data removed]",
      "text/plain": [
       "<IPython.core.display.Image object>"
      ]
     },
     "execution_count": 19,
     "metadata": {},
     "output_type": "execute_result"
    }
   ],
   "source": [
    "from __future__ import division\n",
    "from graphviz import Digraph\n",
    "from IPython.display import Image\n",
    "import numpy as np\n",
    "\n",
    "# Create Digraph object\n",
    "dot = Digraph(comment='Markov Chain Diagram', format='png')\n",
    "\n",
    "# Create lists of nodes and edges\n",
    "nodes = ['(3,0)', '(2,1)', '(1,2)', '(0,3)']\n",
    "edges = [\n",
    "    [0,0,0,0],\n",
    "    [1,1/3,0,0],\n",
    "    [0,2/3,2/3,0],\n",
    "    [0,0,1/3,1],\n",
    "]\n",
    "\n",
    "# Add nodes to digraph\n",
    "for i, node in enumerate(nodes):\n",
    "    dot.node(node, label=node)\n",
    "    \n",
    "# Add edges between nodes to digraph\n",
    "for outer in xrange(len(edges)):\n",
    "    for inner, value in enumerate(edges[outer]):\n",
    "        if value != 0:\n",
    "            dot.edge(nodes[inner], nodes[outer], label=str(value))\n",
    "\n",
    "# Generate graph\n",
    "filename = dot.render()\n",
    "Image(filename=filename)"
   ]
  },
  {
   "cell_type": "markdown",
   "metadata": {},
   "source": [
    "### Transition Matrix"
   ]
  },
  {
   "cell_type": "code",
   "execution_count": 95,
   "metadata": {
    "collapsed": false,
    "scrolled": true
   },
   "outputs": [
    {
     "name": "stdout",
     "output_type": "stream",
     "text": [
      " State (3, 0) (2, 1) (1, 2) (0, 3)\n",
      "(3, 0) 0.0000 0.0000 0.0000 0.0000\n",
      "(2, 1) 1.0000 0.3333 0.0000 0.0000\n",
      "(1, 2) 0.0000 0.6667 0.6667 0.0000\n",
      "(0, 3) 0.0000 0.0000 0.3333 1.0000\n"
     ]
    }
   ],
   "source": [
    "# Create array object from edges\n",
    "transition_matrix = np.array(edges)\n",
    "\n",
    "# Create labels for rows, columns\n",
    "labels = ['(3, 0)', '(2, 1)', '(1, 2)', '(0, 3)']\n",
    "\n",
    "# Print column labels\n",
    "print ' State ' + ' '.join(i for i in labels)\n",
    "\n",
    "# Print row labels, row values\n",
    "for row_label, row in zip(labels, transition_matrix):\n",
    "    values = ' '.join('%.4f' % i for i in row)\n",
    "    print '{:<3}{}'.format(row_label + ' ', values)"
   ]
  },
  {
   "cell_type": "markdown",
   "metadata": {},
   "source": [
    "### Probability Table"
   ]
  },
  {
   "cell_type": "code",
   "execution_count": 73,
   "metadata": {
    "collapsed": false
   },
   "outputs": [
    {
     "name": "stdout",
     "output_type": "stream",
     "text": [
      "Round     Probability\n",
      "1         0.0000         \n",
      "2         0.0000         \n",
      "3         0.2222         \n",
      "4         0.4444         \n",
      "5         0.6173         \n",
      "6         0.7407         \n",
      "7         0.8258         \n",
      "8         0.8834         \n",
      "9         0.9221         \n",
      "10        0.9480         \n",
      "11        0.9653         \n",
      "12        0.9769         \n",
      "13        0.9846         \n",
      "14        0.9897         \n",
      "15        0.9931         \n"
     ]
    }
   ],
   "source": [
    "# Store the probability that the round ends, this round\n",
    "probability_sum = 0\n",
    "# Store the round number\n",
    "round_number = 1\n",
    "\n",
    "# Print column headers\n",
    "print '{:<10}{}'.format('Round', 'Probability')\n",
    "while probability_sum < 0.99:\n",
    "    \n",
    "    # Transpose the matrix and retrieve probability that the round ends\n",
    "    # Store that probability in probability_sum\n",
    "    probability_sum = np.matrix.transpose(\n",
    "        np.linalg.matrix_power(transition_matrix, round_number)\n",
    "    )[0][3]\n",
    "    \n",
    "    # Print the round number and probability\n",
    "    print '{:<10}{:<15.4f}'.format(round_number, probability_sum)\n",
    "    \n",
    "    # Increment round number\n",
    "    round_number += 1\n",
    "    "
   ]
  }
 ],
 "metadata": {
  "kernelspec": {
   "display_name": "Python 2",
   "language": "python",
   "name": "python2"
  },
  "language_info": {
   "codemirror_mode": {
    "name": "ipython",
    "version": 2
   },
   "file_extension": ".py",
   "mimetype": "text/x-python",
   "name": "python",
   "nbconvert_exporter": "python",
   "pygments_lexer": "ipython2",
   "version": "2.7.10"
  }
 },
 "nbformat": 4,
 "nbformat_minor": 0
}
