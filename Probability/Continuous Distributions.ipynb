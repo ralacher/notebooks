{
 "cells": [
  {
   "cell_type": "markdown",
   "metadata": {},
   "source": [
    "** Probability that X is between a and b is **\n",
    "\n",
    "$ P(a \\le X \\le b) = \\int_a^b p(x)dx $"
   ]
  },
  {
   "cell_type": "markdown",
   "metadata": {},
   "source": [
    "**Q: What P(X) are PDFs?**\n",
    "\n",
    "A: \n",
    "- $\\int_{-\\infty}^\\infty P(x)dx = 1 $\n",
    "- $ P(X) \\ge 0 $\n",
    "- Cadlac?"
   ]
  },
  {
   "cell_type": "markdown",
   "metadata": {},
   "source": [
    "** Probability that X is less than or equal to a is **\n",
    "\n",
    "$ P(X \\le a) = \\int_{-\\infty}^a P(X)dx $"
   ]
  },
  {
   "cell_type": "markdown",
   "metadata": {},
   "source": [
    "CDF is the cumulative distribution function -- the area under the function $ p $. \n",
    "\n",
    "The antiderivative of CDF is PDF.\n",
    "\n",
    "$ CDF' = PDF $"
   ]
  },
  {
   "cell_type": "markdown",
   "metadata": {},
   "source": [
    "** Uniform Distribution ** (Random Number Generator) -- $ U_{[0,1]} $\n",
    "\n"
   ]
  },
  {
   "cell_type": "code",
   "execution_count": 26,
   "metadata": {
    "collapsed": false
   },
   "outputs": [
    {
     "data": {
      "image/png": "[encoded data removed]",
      "text/plain": [
       "<matplotlib.figure.Figure at 0x7fd21d689f50>"
      ]
     },
     "metadata": {},
     "output_type": "display_data"
    }
   ],
   "source": [
    "from __future__ import division\n",
    "import numpy as np\n",
    "import matplotlib.pyplot as plt\n",
    "\n",
    "%matplotlib inline\n",
    "\n",
    "x = [2,5]\n",
    "y = [1,1]\n",
    "plt.plot(x, y)\n",
    "#plt.axis([0,6,0,2])\n",
    "plt.fill_between(x,y)\n",
    "plt.show()\n",
    "\n",
    "del x,y"
   ]
  },
  {
   "cell_type": "code",
   "execution_count": 27,
   "metadata": {
    "collapsed": false
   },
   "outputs": [
    {
     "data": {
      "image/png": "[encoded data removed]",
      "text/plain": [
       "<matplotlib.figure.Figure at 0x7fd21d798dd0>"
      ]
     },
     "metadata": {},
     "output_type": "display_data"
    },
    {
     "name": "stdout",
     "output_type": "stream",
     "text": [
      "499886 500114\n"
     ]
    }
   ],
   "source": [
    "x = np.random.randn(1000000,1)\n",
    "plt.hist(x,50)\n",
    "plt.show()\n",
    "gth = []\n",
    "lth = []\n",
    "for ele in x:\n",
    "    if ele > 0:\n",
    "        gth.append(ele)\n",
    "    else:\n",
    "        lth.append(ele)\n",
    "print len(gth), len(lth)"
   ]
  }
 ],
 "metadata": {
  "kernelspec": {
   "display_name": "Python 2",
   "language": "python",
   "name": "python2"
  },
  "language_info": {
   "codemirror_mode": {
    "name": "ipython",
    "version": 2
   },
   "file_extension": ".py",
   "mimetype": "text/x-python",
   "name": "python",
   "nbconvert_exporter": "python",
   "pygments_lexer": "ipython2",
   "version": "2.7.10"
  }
 },
 "nbformat": 4,
 "nbformat_minor": 0
}
