{
 "cells": [
  {
   "cell_type": "markdown",
   "metadata": {},
   "source": [
    "**Robert Lacher**\n",
    "\n",
    "**MATH 3332**\n",
    "\n",
    "**SECTION 62**"
   ]
  },
  {
   "cell_type": "code",
   "execution_count": 1,
   "metadata": {
    "collapsed": false
   },
   "outputs": [],
   "source": [
    "from __future__ import division\n",
    "import numpy as np\n",
    "from scipy import stats\n",
    "from math import sqrt"
   ]
  },
  {
   "cell_type": "markdown",
   "metadata": {},
   "source": [
    "# Let us do an experiment to check 95% Confidence Interval Theory. Do the following:\n",
    "\n",
    "## In column A create 100 random numbers from the Z-distribution, same for column B."
   ]
  },
  {
   "cell_type": "code",
   "execution_count": 2,
   "metadata": {
    "collapsed": true
   },
   "outputs": [],
   "source": [
    "col_a = np.random.normal(size=(100,1))\n",
    "col_b = np.random.normal(size=(100,1))"
   ]
  },
  {
   "cell_type": "markdown",
   "metadata": {},
   "source": [
    "## Let column C be 100+column A, and column D, 100+column B. "
   ]
  },
  {
   "cell_type": "code",
   "execution_count": 3,
   "metadata": {
    "collapsed": true
   },
   "outputs": [],
   "source": [
    "col_c = col_a + 100\n",
    "col_d = col_b + 100"
   ]
  },
  {
   "cell_type": "markdown",
   "metadata": {},
   "source": [
    "## Finally in column E save the multiplication of column C and D. The newly created number will have mean of 10000."
   ]
  },
  {
   "cell_type": "code",
   "execution_count": 4,
   "metadata": {
    "collapsed": false
   },
   "outputs": [],
   "source": [
    "col_e = col_c * col_d"
   ]
  },
  {
   "cell_type": "markdown",
   "metadata": {},
   "source": [
    "## Now in cell F1 calculate the average of the 100 numbers you just created in Column E."
   ]
  },
  {
   "cell_type": "code",
   "execution_count": 5,
   "metadata": {
    "collapsed": false
   },
   "outputs": [
    {
     "name": "stdout",
     "output_type": "stream",
     "text": [
      "10013.3255568\n"
     ]
    }
   ],
   "source": [
    "print np.mean(col_e)"
   ]
  },
  {
   "cell_type": "markdown",
   "metadata": {},
   "source": [
    "## Finally the first experiment ends up with you creating the 95%Confidence interval so that you calculate the left bend of the interval in G1 and right end of the interval in H1."
   ]
  },
  {
   "cell_type": "code",
   "execution_count": 6,
   "metadata": {
    "collapsed": false
   },
   "outputs": [
    {
     "name": "stdout",
     "output_type": "stream",
     "text": [
      "(9747.4434094941316, 10279.207704111253)\n"
     ]
    }
   ],
   "source": [
    "print stats.norm.interval(alpha=0.95, loc=col_e.mean(), scale=col_e.std())"
   ]
  },
  {
   "cell_type": "markdown",
   "metadata": {},
   "source": [
    "## Now, like in the case of Monte Carlo, use What If Analysis from Excel and repeat this experiment 100 times. Each time you recalculate left end of 95%CI(save it column J) and the right end of 95%CI(save it in column K). Then in Column L, using if function, put 1 if the mean 10000 is in the interval and 0 if it is not. Report on how many times the real mean of 10,000 fell into 95%CI."
   ]
  },
  {
   "cell_type": "code",
   "execution_count": 7,
   "metadata": {
    "collapsed": false
   },
   "outputs": [],
   "source": [
    "def what_if_analysis(alpha=None, num_iterations=None):\n",
    "    \n",
    "    num_in = 0\n",
    "    \n",
    "    for iteration in xrange(num_iterations):\n",
    "        \n",
    "        col_a = np.random.normal(size=(100,1))\n",
    "        col_b = np.random.normal(size=(100,1))\n",
    "\n",
    "        col_c = col_a + 100\n",
    "        col_d = col_b + 100\n",
    "\n",
    "        col_e = col_c * col_d\n",
    "\n",
    "        mean = np.mean(col_e)\n",
    "        stdev = np.std(col_e)\n",
    "        interval = stats.norm.interval(alpha=alpha, loc=mean, scale=stdev)\n",
    "\n",
    "        if 10000 > interval[0] and 10000 < interval[1]:\n",
    "            num_in += 1\n",
    "            \n",
    "    return num_in"
   ]
  },
  {
   "cell_type": "markdown",
   "metadata": {},
   "source": [
    "## Repeat the whole thing 10 times and report on results. Finally snip the first 10 lines of excel and submit it together with the results. Repeat the whole thing with 99%CI."
   ]
  },
  {
   "cell_type": "code",
   "execution_count": 8,
   "metadata": {
    "collapsed": false
   },
   "outputs": [
    {
     "name": "stdout",
     "output_type": "stream",
     "text": [
      "46\n",
      "52\n",
      "45\n",
      "42\n",
      "47\n",
      "48\n",
      "43\n",
      "49\n",
      "48\n",
      "54\n"
     ]
    }
   ],
   "source": [
    "for i in xrange(10):\n",
    "    confidence_level = 0.95\n",
    "    alpha = 1 - confidence_level\n",
    "        \n",
    "    result = what_if_analysis(alpha=alpha, num_iterations=100)\n",
    "    print result"
   ]
  },
  {
   "cell_type": "code",
   "execution_count": 9,
   "metadata": {
    "collapsed": false
   },
   "outputs": [
    {
     "name": "stdout",
     "output_type": "stream",
     "text": [
      "11\n",
      "13\n",
      "11\n",
      "7\n",
      "5\n",
      "10\n",
      "10\n",
      "6\n",
      "6\n",
      "12\n"
     ]
    }
   ],
   "source": [
    "for i in xrange(10):\n",
    "    confidence_level = 0.99\n",
    "    alpha = 1 - confidence_level\n",
    "    \n",
    "    result = what_if_analysis(alpha=0.01, num_iterations=100)\n",
    "    print result"
   ]
  },
  {
   "cell_type": "code",
   "execution_count": 10,
   "metadata": {
    "collapsed": false
   },
   "outputs": [
    {
     "name": "stdout",
     "output_type": "stream",
     "text": [
      "9970.5877461 < 10000 < 10016.4388837\n",
      "9963.66302248 < 10000 < 10011.9665713\n",
      "9984.92188113 < 10000 < 10031.2086398\n",
      "9985.23720564 < 10000 < 10030.6484241\n",
      "9991.37869495 < 10000 < 10036.5341879\n",
      "9974.3068647 < 10000 < 10013.2623853\n",
      "9961.56097555 < 10000 < 10010.9816086\n",
      "9982.90924746 < 10000 < 10029.2795495\n",
      "9996.44098861 < 10000 < 10043.3982392\n",
      "9978.93997702 < 10000 < 10021.0317193\n"
     ]
    }
   ],
   "source": [
    "for i in xrange(10):\n",
    "    num_in = 0 \n",
    "    col_a = np.random.normal(size=(100,1))\n",
    "    col_b = np.random.normal(size=(100,1))\n",
    "\n",
    "    col_c = col_a + 100\n",
    "    col_d = col_b + 100\n",
    "\n",
    "    col_e = col_c * col_d\n",
    "\n",
    "    mu = 10000\n",
    "    xbar = np.mean(col_e)\n",
    "    sigma = np.std(col_e)\n",
    "    z_prime = 1.64#2.58#1.96\n",
    "    n = len(col_e)\n",
    "\n",
    "    left = xbar - z_prime * ( sigma / sqrt(n) )\n",
    "    right = xbar + z_prime * ( sigma / sqrt(n) )\n",
    "\n",
    "    print '%s < %s < %s' % (left, mu, right)"
   ]
  }
 ],
 "metadata": {
  "kernelspec": {
   "display_name": "Python 2",
   "language": "python",
   "name": "python2"
  },
  "language_info": {
   "codemirror_mode": {
    "name": "ipython",
    "version": 2
   },
   "file_extension": ".py",
   "mimetype": "text/x-python",
   "name": "python",
   "nbconvert_exporter": "python",
   "pygments_lexer": "ipython2",
   "version": "2.7.11+"
  }
 },
 "nbformat": 4,
 "nbformat_minor": 0
}
